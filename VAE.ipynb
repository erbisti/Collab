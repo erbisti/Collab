{
  "nbformat": 4,
  "nbformat_minor": 0,
  "metadata": {
    "colab": {
      "provenance": [],
      "authorship_tag": "ABX9TyPIQN5mV4ijWojicNzU1RYU",
      "include_colab_link": true
    },
    "kernelspec": {
      "name": "python3",
      "display_name": "Python 3"
    },
    "language_info": {
      "name": "python"
    }
  },
  "cells": [
    {
      "cell_type": "markdown",
      "metadata": {
        "id": "view-in-github",
        "colab_type": "text"
      },
      "source": [
        "<a href=\"https://colab.research.google.com/github/erbisti/Collab/blob/main/VAE.ipynb\" target=\"_parent\"><img src=\"https://colab.research.google.com/assets/colab-badge.svg\" alt=\"Open In Colab\"/></a>"
      ]
    },
    {
      "cell_type": "code",
      "execution_count": null,
      "metadata": {
        "colab": {
          "base_uri": "https://localhost:8080/"
        },
        "id": "A-daKH44b80l",
        "outputId": "0f98162d-7d7f-4292-80ca-f0d251472652"
      },
      "outputs": [
        {
          "output_type": "stream",
          "name": "stdout",
          "text": [
            "Epoch 1/10\n",
            "\u001b[1m469/469\u001b[0m \u001b[32m━━━━━━━━━━━━━━━━━━━━\u001b[0m\u001b[37m\u001b[0m \u001b[1m100s\u001b[0m 202ms/step - kl_loss: 3.2470 - loss: 211.0954 - reconstruction_loss: 207.8484 - val_loss: 0.0562\n",
            "Epoch 2/10\n",
            "\u001b[1m469/469\u001b[0m \u001b[32m━━━━━━━━━━━━━━━━━━━━\u001b[0m\u001b[37m\u001b[0m \u001b[1m133s\u001b[0m 183ms/step - kl_loss: 3.8646 - loss: 171.3172 - reconstruction_loss: 167.4526 - val_loss: 0.0499\n",
            "Epoch 3/10\n",
            "\u001b[1m469/469\u001b[0m \u001b[32m━━━━━━━━━━━━━━━━━━━━\u001b[0m\u001b[37m\u001b[0m \u001b[1m87s\u001b[0m 185ms/step - kl_loss: 3.7628 - loss: 163.1036 - reconstruction_loss: 159.3408 - val_loss: 0.0470\n",
            "Epoch 4/10\n",
            "\u001b[1m469/469\u001b[0m \u001b[32m━━━━━━━━━━━━━━━━━━━━\u001b[0m\u001b[37m\u001b[0m \u001b[1m138s\u001b[0m 178ms/step - kl_loss: 3.8113 - loss: 159.3088 - reconstruction_loss: 155.4975 - val_loss: 0.0458\n",
            "Epoch 5/10\n",
            "\u001b[1m469/469\u001b[0m \u001b[32m━━━━━━━━━━━━━━━━━━━━\u001b[0m\u001b[37m\u001b[0m \u001b[1m142s\u001b[0m 178ms/step - kl_loss: 3.8246 - loss: 157.1450 - reconstruction_loss: 153.3204 - val_loss: 0.0450\n",
            "Epoch 6/10\n",
            "\u001b[1m469/469\u001b[0m \u001b[32m━━━━━━━━━━━━━━━━━━━━\u001b[0m\u001b[37m\u001b[0m \u001b[1m145s\u001b[0m 184ms/step - kl_loss: 3.8700 - loss: 155.6795 - reconstruction_loss: 151.8095 - val_loss: 0.0442\n",
            "Epoch 7/10\n",
            "\u001b[1m469/469\u001b[0m \u001b[32m━━━━━━━━━━━━━━━━━━━━\u001b[0m\u001b[37m\u001b[0m \u001b[1m140s\u001b[0m 180ms/step - kl_loss: 3.8636 - loss: 154.4384 - reconstruction_loss: 150.5748 - val_loss: 0.0439\n",
            "Epoch 8/10\n"
          ]
        }
      ],
      "source": [
        "import tensorflow as tf\n",
        "from tensorflow.keras import layers, Model\n",
        "import numpy as np\n",
        "import matplotlib.pyplot as plt\n",
        "\n",
        "# ===== 1. Carregamento e preparação dos dados =====\n",
        "(x_train, _), (x_test, _) = tf.keras.datasets.mnist.load_data()\n",
        "x_train = x_train.astype(\"float32\") / 255.\n",
        "x_test = x_test.astype(\"float32\") / 255.\n",
        "x_train = np.reshape(x_train, (-1, 28, 28, 1))\n",
        "x_test = np.reshape(x_test, (-1, 28, 28, 1))\n",
        "\n",
        "# ===== 2. Parâmetros =====\n",
        "latent_dim = 2\n",
        "\n",
        "# ===== 3. Encoder =====\n",
        "encoder_inputs = tf.keras.Input(shape=(28, 28, 1))\n",
        "x = layers.Conv2D(32, 3, strides=2, activation='relu', padding='same')(encoder_inputs)\n",
        "x = layers.Conv2D(64, 3, strides=2, activation='relu', padding='same')(x)\n",
        "x = layers.Flatten()(x)\n",
        "x = layers.Dense(16, activation='relu')(x)\n",
        "z_mean = layers.Dense(latent_dim, name='z_mean')(x)\n",
        "z_log_var = layers.Dense(latent_dim, name='z_log_var')(x)\n",
        "\n",
        "def sampling(args):\n",
        "    z_mean, z_log_var = args\n",
        "    epsilon = tf.random.normal(shape=tf.shape(z_mean))\n",
        "    return z_mean + tf.exp(0.5 * z_log_var) * epsilon\n",
        "\n",
        "z = layers.Lambda(sampling, name='z')([z_mean, z_log_var])\n",
        "encoder = Model(encoder_inputs, [z_mean, z_log_var, z], name='encoder')\n",
        "\n",
        "# ===== 4. Decoder =====\n",
        "latent_inputs = tf.keras.Input(shape=(latent_dim,))\n",
        "x = layers.Dense(7 * 7 * 64, activation='relu')(latent_inputs)\n",
        "x = layers.Reshape((7, 7, 64))(x)\n",
        "x = layers.Conv2DTranspose(64, 3, strides=2, activation='relu', padding='same')(x)\n",
        "x = layers.Conv2DTranspose(32, 3, strides=2, activation='relu', padding='same')(x)\n",
        "decoder_outputs = layers.Conv2DTranspose(1, 3, activation='sigmoid', padding='same')(x)\n",
        "decoder = Model(latent_inputs, decoder_outputs, name='decoder')\n",
        "\n",
        "# ===== 5. Modelo VAE com cálculo manual da perda =====\n",
        "class VAE(Model):\n",
        "    def __init__(self, encoder, decoder, **kwargs):\n",
        "        super(VAE, self).__init__(**kwargs)\n",
        "        self.encoder = encoder\n",
        "        self.decoder = decoder\n",
        "\n",
        "    def call(self, inputs):\n",
        "        _, _, z = self.encoder(inputs)\n",
        "        return self.decoder(z)\n",
        "\n",
        "    def train_step(self, data):\n",
        "        if isinstance(data, tuple):\n",
        "            data = data[0]\n",
        "\n",
        "        with tf.GradientTape() as tape:\n",
        "            z_mean, z_log_var, z = self.encoder(data)\n",
        "            reconstruction = self.decoder(z)\n",
        "\n",
        "            reconstruction_loss = tf.reduce_mean(\n",
        "                tf.keras.losses.binary_crossentropy(data, reconstruction)\n",
        "            ) * 28 * 28\n",
        "\n",
        "            kl_loss = -0.5 * tf.reduce_mean(\n",
        "                1 + z_log_var - tf.square(z_mean) - tf.exp(z_log_var)\n",
        "            )\n",
        "\n",
        "            total_loss = reconstruction_loss + kl_loss\n",
        "\n",
        "        grads = tape.gradient(total_loss, self.trainable_weights)\n",
        "        self.optimizer.apply_gradients(zip(grads, self.trainable_weights))\n",
        "\n",
        "        return {\n",
        "            \"loss\": total_loss,\n",
        "            \"reconstruction_loss\": reconstruction_loss,\n",
        "            \"kl_loss\": kl_loss,\n",
        "        }\n",
        "\n",
        "# ===== 6. Instanciamento e treinamento =====\n",
        "vae = VAE(encoder, decoder)\n",
        "vae.compile(optimizer='adam', loss=tf.keras.losses.MeanSquaredError())  # Dummy loss\n",
        "vae.fit(x_train, x_train,\n",
        "        epochs=10,\n",
        "        batch_size=128,\n",
        "        validation_data=(x_test, x_test))\n",
        "\n",
        "# ===== 7. Visualização das reconstruções =====\n",
        "decoded_imgs = vae.predict(x_test)\n",
        "\n",
        "n = 10\n",
        "plt.figure(figsize=(20, 4))\n",
        "for i in range(n):\n",
        "    ax = plt.subplot(2, n, i + 1)\n",
        "    plt.imshow(x_test[i].reshape(28, 28), cmap='gray')\n",
        "    ax.axis('off')\n",
        "    ax = plt.subplot(2, n, i + 1 + n)\n",
        "    plt.imshow(decoded_imgs[i].reshape(28, 28), cmap='gray')\n",
        "    ax.axis('off')\n",
        "plt.show()\n"
      ]
    }
  ]
}