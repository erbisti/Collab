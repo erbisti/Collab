{
  "cells": [
    {
      "cell_type": "markdown",
      "id": "a02fc8b0",
      "metadata": {
        "id": "a02fc8b0"
      },
      "source": [
        "# Isolation Forest (2D) — Notebook Comentado\n",
        "\n",
        "Este notebook implementa **Isolation Forest** do zero, com explicações passo a passo em português.\n",
        "\n",
        "\n",
        "**Resumo do que você verá:**\n",
        "1. Geração de dados sintéticos (3 clusters gaussianos + 10 outliers).\n",
        "2. Implementação de uma árvore de isolamento (nó recursivo).\n",
        "3. Função de comprimento de caminho (*path length*) e fator de normalização `c(n)`.\n",
        "4. Implementação da floresta de isolamento (conjunto de árvores aleatórias).\n",
        "5. Treinamento, cálculo de *scores* de anomalia e visualização em 2D.\n"
      ]
    },
    {
      "cell_type": "markdown",
      "id": "011fc01a",
      "metadata": {
        "id": "011fc01a"
      },
      "source": [
        "## Importações\n",
        "\n",
        "Utilizaremos `numpy`, `matplotlib` e `scikit-learn` apenas para **gerar dados**;\n",
        "toda a lógica do Isolation Forest é codificada manualmente aqui.\n"
      ]
    },
    {
      "cell_type": "code",
      "execution_count": null,
      "id": "17f7375b",
      "metadata": {
        "id": "17f7375b"
      },
      "outputs": [],
      "source": [
        "import numpy as np\n",
        "import matplotlib.pyplot as plt\n",
        "from sklearn.datasets import make_blobs\n",
        "\n",
        "# Garantir reprodutibilidade global adicional (além dos pontos do make_blobs)\n",
        "np.random.seed(7)"
      ]
    },
    {
      "cell_type": "markdown",
      "id": "2379b2ee",
      "metadata": {
        "id": "2379b2ee"
      },
      "source": [
        "## Geração de dados: 3 clusters + 10 outliers artificiais\n",
        "\n",
        "- `make_blobs` gera dados agrupados com distribuição normal (gaussiana) ao redor de centros.\n",
        "- `centers=3` cria três grupos distintos.\n",
        "- `cluster_std=0.60` controla a dispersão de cada grupo.\n",
        "- `random_state=7` fixa a semente para reprodutibilidade.\n",
        "- Outliers são amostrados **uniformemente** em `[-6, 6]` em cada eixo.\n"
      ]
    },
    {
      "cell_type": "code",
      "execution_count": null,
      "id": "d4831e7b",
      "metadata": {
        "id": "d4831e7b"
      },
      "outputs": [],
      "source": [
        "# Dados majoritariamente \"normais\" (três aglomerados) + outliers uniformes\n",
        "X_normal, _ = make_blobs(n_samples=300, centers=3, cluster_std=0.60, random_state=7)\n",
        "X_outliers = np.random.uniform(low=-6, high=6, size=(10, 2))\n",
        "X = np.vstack([X_normal, X_outliers])\n",
        "\n",
        "print(f\"Formas: X_normal = {X_normal.shape}, X_outliers = {X_outliers.shape}, X = {X.shape}\")"
      ]
    },
    {
      "cell_type": "markdown",
      "id": "afd277c7",
      "metadata": {
        "id": "afd277c7"
      },
      "source": [
        "### Visualização inicial dos dados (sem modelo)\n",
        "\n",
        "Pontos dos três *clusters* (em azul) e dos outliers misturados (ainda sem distinção visual).\n"
      ]
    },
    {
      "cell_type": "code",
      "execution_count": null,
      "id": "aecac390",
      "metadata": {
        "id": "aecac390"
      },
      "outputs": [],
      "source": [
        "plt.figure(figsize=(6, 5))\n",
        "plt.scatter(X[:, 0], X[:, 1], s=25, edgecolors='k')\n",
        "plt.title(\"Dados sintéticos (3 clusters + outliers)\")\n",
        "plt.xlabel(\"X₁\")\n",
        "plt.ylabel(\"X₂\")\n",
        "plt.grid(True)\n",
        "plt.show()"
      ]
    },
    {
      "cell_type": "markdown",
      "id": "a728928c",
      "metadata": {
        "id": "a728928c"
      },
      "source": [
        "## Nó de Árvore de Isolamento (`IsolationTreeNode`)\n",
        "\n",
        "Cada nó escolhe aleatoriamente:\n",
        "- **uma feature** (coluna) dentre as disponíveis;\n",
        "- **um valor de corte (split)** uniforme entre `min` e `max` da feature naquele nó.\n",
        "\n",
        "A recursão prossegue até atingir a **profundidade máxima** (`max_depth`) ou um **nó terminal** (1 amostra).\n"
      ]
    },
    {
      "cell_type": "code",
      "execution_count": null,
      "id": "09a28fce",
      "metadata": {
        "id": "09a28fce"
      },
      "outputs": [],
      "source": [
        "class IsolationTreeNode:\n",
        "    def __init__(self, depth=0, max_depth=None):\n",
        "        self.left = None\n",
        "        self.right = None\n",
        "        self.split_feature = None\n",
        "        self.split_value = None\n",
        "        self.depth = depth\n",
        "        self.max_depth = max_depth\n",
        "        self.n_samples = None\n",
        "\n",
        "    def fit(self, X):\n",
        "        \"\"\"Constroi recursivamente a árvore de isolamento.\n",
        "        Critérios de parada:\n",
        "        - profundidade >= max_depth, ou\n",
        "        - número de amostras <= 1, ou\n",
        "        - todos os valores da feature escolhida iguais (split impossível).\n",
        "        \"\"\"\n",
        "        self.n_samples = X.shape[0]\n",
        "        if self.depth >= self.max_depth or self.n_samples <= 1:\n",
        "            return\n",
        "\n",
        "        # Escolhe uma variável aleatória e um valor de corte aleatório\n",
        "        self.split_feature = np.random.randint(0, X.shape[1])\n",
        "        min_val, max_val = X[:, self.split_feature].min(), X[:, self.split_feature].max()\n",
        "        if min_val == max_val:\n",
        "            # Não é possível dividir nesta feature\n",
        "            return\n",
        "        self.split_value = np.random.uniform(min_val, max_val)\n",
        "\n",
        "        # Separa os dados em dois subconjuntos\n",
        "        left_mask = X[:, self.split_feature] < self.split_value\n",
        "        X_left = X[left_mask]\n",
        "        X_right = X[~left_mask]\n",
        "\n",
        "        # Cria nós filhos recursivamente\n",
        "        self.left = IsolationTreeNode(depth=self.depth + 1, max_depth=self.max_depth)\n",
        "        self.left.fit(X_left)\n",
        "\n",
        "        self.right = IsolationTreeNode(depth=self.depth + 1, max_depth=self.max_depth)\n",
        "        self.right.fit(X_right)"
      ]
    },
    {
      "cell_type": "markdown",
      "id": "4768b866",
      "metadata": {
        "id": "4768b866"
      },
      "source": [
        "## Comprimento de caminho (*path length*) e fator de normalização `c(n)`\n",
        "\n",
        "- O **comprimento de caminho** de uma amostra é a profundidade em que ela é isolada.\n",
        "- Nós terminais com mais de 1 amostra usam a correção **`c(n)`**, que aproxima a\n",
        "  profundidade média esperada de uma busca em árvore binária aleatória.\n",
        "\n",
        "A constante de Euler–Mascheroni \\(\\gamma \\approx 0{,}5772\\) aparece na expressão fechada de `c(n)`.\n"
      ]
    },
    {
      "cell_type": "code",
      "execution_count": null,
      "id": "82f0d43d",
      "metadata": {
        "id": "82f0d43d"
      },
      "outputs": [],
      "source": [
        "def c_factor(n: int) -> float:\n",
        "    \"\"\"Fator de normalização c(n):\n",
        "    c(n) = 0,  se n <= 1\n",
        "           2 * (ln(n-1) + gamma) - 2*(n-1)/n,  se n > 1\n",
        "    \"\"\"\n",
        "    if n <= 1:\n",
        "        return 0.0\n",
        "    gamma = 0.5772156649  # constante de Euler–Mascheroni\n",
        "    return 2.0 * (np.log(n - 1) + gamma) - (2.0 * (n - 1) / n)\n",
        "\n",
        "\n",
        "def path_length(x: np.ndarray, node: IsolationTreeNode) -> float:\n",
        "    \"\"\"Calcula recursivamente o comprimento de caminho para o ponto x na árvore dada.\n",
        "    - Se chegamos a um nó folha (sem filhos), retornamos a profundidade, com ajuste por c(n) quando n>1.\n",
        "    - Caso contrário, seguimos à esquerda/direita conforme o split.\n",
        "    \"\"\"\n",
        "    if node.left is None or node.right is None:\n",
        "        if node.n_samples is None:\n",
        "            return node.depth  # fallback\n",
        "        if node.n_samples <= 1:\n",
        "            return node.depth\n",
        "        return node.depth + c_factor(node.n_samples)\n",
        "\n",
        "    if x[node.split_feature] < node.split_value:\n",
        "        return path_length(x, node.left)\n",
        "    else:\n",
        "        return path_length(x, node.right)"
      ]
    },
    {
      "cell_type": "markdown",
      "id": "f1080528",
      "metadata": {
        "id": "f1080528"
      },
      "source": [
        "## Floresta de Isolamento (`IsolationForest`)\n",
        "\n",
        "- Constrói **`n_estimators`** árvores, cada uma treinada em um **subconjunto aleatório** de tamanho `max_samples`.\n",
        "- A profundidade máxima padrão é \\(\\lceil \\log_2(\\text{max\\_samples}) \\rceil\\), conforme a teoria do algoritmo.\n",
        "- O *score* de anomalia de um ponto é \\( 2^{-\\frac{E(h(x))}{c(\\text{amostra})}} \\), onde \\(E(h(x))\\) é o comprimento médio de caminho.\n"
      ]
    },
    {
      "cell_type": "code",
      "execution_count": null,
      "id": "02d4345d",
      "metadata": {
        "id": "02d4345d"
      },
      "outputs": [],
      "source": [
        "class IsolationForest:\n",
        "    def __init__(self, n_estimators=100, max_samples=256, max_depth=None):\n",
        "        self.n_estimators = n_estimators\n",
        "        self.max_samples = max_samples\n",
        "        self.max_depth = max_depth\n",
        "        self.trees = []\n",
        "        self.sample_size = None\n",
        "\n",
        "    def fit(self, X: np.ndarray):\n",
        "        \"\"\"Treina a floresta, construindo árvores com amostras aleatórias de tamanho `max_samples`.\n",
        "        A profundidade limite padrão é ceil(log2(sample_size)) se max_depth não for fornecida.\n",
        "        \"\"\"\n",
        "        self.trees = []\n",
        "        self.sample_size = int(min(self.max_samples, X.shape[0]))\n",
        "        height_limit = int(np.ceil(np.log2(self.sample_size))) if self.max_depth is None else int(self.max_depth)\n",
        "\n",
        "        for _ in range(self.n_estimators):\n",
        "            indices = np.random.choice(X.shape[0], self.sample_size, replace=False)\n",
        "            X_subset = X[indices]\n",
        "            root = IsolationTreeNode(depth=0, max_depth=height_limit)\n",
        "            root.fit(X_subset)\n",
        "            self.trees.append(root)\n",
        "\n",
        "    def score_samples(self, X: np.ndarray) -> np.ndarray:\n",
        "        \"\"\"Calcula o score de anomalia para cada amostra:\n",
        "        score(x) = 2 ^ ( - E[h(x)] / c(sample_size) )\n",
        "        Valores maiores indicam maior probabilidade de anomalia.\n",
        "        \"\"\"\n",
        "        scores = np.zeros(X.shape[0], dtype=float)\n",
        "        normalizer = c_factor(self.sample_size)\n",
        "        for i, x in enumerate(X):\n",
        "            path_lengths = [path_length(x, tree) for tree in self.trees]\n",
        "            avg_path_length = np.mean(path_lengths)\n",
        "            scores[i] = 2.0 ** (-avg_path_length / normalizer) if normalizer > 0 else 0.0\n",
        "        return scores"
      ]
    },
    {
      "cell_type": "markdown",
      "id": "de006bd9",
      "metadata": {
        "id": "de006bd9"
      },
      "source": [
        "## Treinamento e *scores* de anomalia\n",
        "\n",
        "- Treinamos a floresta com `n_estimators=100` e `max_samples=256`.\n",
        "- Calculamos os *scores* para todas as amostras.\n",
        "- Definimos um **limiar** como o percentil 95 (top 5% são marcados como outliers).\n"
      ]
    },
    {
      "cell_type": "code",
      "execution_count": null,
      "id": "b2d61628",
      "metadata": {
        "id": "b2d61628"
      },
      "outputs": [],
      "source": [
        "# Treinamento\n",
        "model = IsolationForest(n_estimators=100, max_samples=256)\n",
        "model.fit(X)\n",
        "\n",
        "# Score de anomalia por ponto\n",
        "scores = model.score_samples(X)\n",
        "\n",
        "# Limiar: 5% com maior score são outliers\n",
        "threshold = np.percentile(scores, 95)\n",
        "labels = (scores >= threshold).astype(int)  # 1 = outlier, 0 = normal\n",
        "\n",
        "print(f\"Limiar (95º percentil): {threshold:.4f}\")\n",
        "print(f\"Qtde outliers sinalizados: {labels.sum()} de {len(labels)} amostras\")"
      ]
    },
    {
      "cell_type": "markdown",
      "id": "4e7e7ecb",
      "metadata": {
        "id": "4e7e7ecb"
      },
      "source": [
        "## Visualização 2D — destaque para outliers\n",
        "\n",
        "Os pontos marcados como outliers (1) aparecem em uma cor distinta.\n"
      ]
    },
    {
      "cell_type": "code",
      "execution_count": null,
      "id": "d64d425d",
      "metadata": {
        "id": "d64d425d"
      },
      "outputs": [],
      "source": [
        "plt.figure(figsize=(7, 6))\n",
        "plt.scatter(X[:, 0], X[:, 1], c=labels, cmap='coolwarm', edgecolors='k')\n",
        "plt.title(\"Detecção de Outliers com Isolation Forest (implementação própria)\")\n",
        "plt.xlabel(\"X₁\")\n",
        "plt.ylabel(\"X₂\")\n",
        "plt.grid(True)\n",
        "plt.show()"
      ]
    },
    {
      "cell_type": "markdown",
      "id": "ac6202ed",
      "metadata": {
        "id": "ac6202ed"
      },
      "source": [
        "## Exploração rápida (opcional)\n",
        "\n",
        "Você pode ajustar parâmetros e observar o efeito no resultado:\n",
        "- `n_estimators`: mais árvores → estimativa mais estável (custo ↑).\n",
        "- `max_samples`: define o tamanho da amostragem por árvore e o normalizador `c(n)`.\n",
        "- Percentil do limiar para classificar outliers (ex.: 90, 95, 99).\n"
      ]
    },
    {
      "cell_type": "code",
      "execution_count": null,
      "id": "c96173ef",
      "metadata": {
        "id": "c96173ef"
      },
      "outputs": [],
      "source": [
        "# Experimento opcional: altere e reexecute\n",
        "percentil = 97  # ajuste: 90, 95, 97, 99...\n",
        "model2 = IsolationForest(n_estimators=150, max_samples=256)\n",
        "model2.fit(X)\n",
        "scores2 = model2.score_samples(X)\n",
        "thr2 = np.percentile(scores2, percentil)\n",
        "labels2 = (scores2 >= thr2).astype(int)\n",
        "\n",
        "plt.figure(figsize=(7, 6))\n",
        "plt.scatter(X[:, 0], X[:, 1], c=labels2, cmap='coolwarm', edgecolors='k')\n",
        "plt.title(f\"Isolation Forest com percentil = {percentil} (outliers em vermelho)\")\n",
        "plt.xlabel(\"X₁\")\n",
        "plt.ylabel(\"X₂\")\n",
        "plt.grid(True)\n",
        "plt.show()\n",
        "\n",
        "print(f\"Percentil usado: {percentil} | Limiar={thr2:.4f} | Outliers={labels2.sum()} de {len(labels2)}\")"
      ]
    }
  ],
  "metadata": {
    "colab": {
      "provenance": []
    }
  },
  "nbformat": 4,
  "nbformat_minor": 5
}