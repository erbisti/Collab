{
 "cells": [
  {
   "cell_type": "markdown",
   "id": "17cd4f37",
   "metadata": {},
   "source": [
    "# Geração de Imagens com VAE Pré-Treinado (CPU)\n",
    "Esta versão apresenta melhor visualização e explicação das imagens geradas com o VAE da StabilityAI."
   ]
  },
  {
   "cell_type": "code",
   "execution_count": null,
   "id": "9cb391c4",
   "metadata": {},
   "outputs": [],
   "source": [
    "!pip install diffusers accelerate torch torchvision --quiet"
   ]
  },
  {
   "cell_type": "code",
   "execution_count": null,
   "id": "62708a0f",
   "metadata": {},
   "outputs": [],
   "source": [
    "from diffusers import AutoencoderKL\n",
    "import torch\n",
    "from torchvision.utils import make_grid\n",
    "import matplotlib.pyplot as plt"
   ]
  },
  {
   "cell_type": "code",
   "execution_count": null,
   "id": "bfe58c19",
   "metadata": {},
   "outputs": [],
   "source": [
    "vae = AutoencoderKL.from_pretrained(\"stabilityai/sd-vae-ft-mse\", torch_dtype=torch.float32)\n",
    "vae = vae.to(\"cpu\")\n",
    "vae.eval()"
   ]
  },
  {
   "cell_type": "markdown",
   "id": "9c3ec567",
   "metadata": {},
   "source": [
    "## Visualização clara e explicada das imagens geradas"
   ]
  },
  {
   "cell_type": "code",
   "execution_count": null,
   "id": "6be4535b",
   "metadata": {},
   "outputs": [],
   "source": [
    "batch = 8\n",
    "z = torch.randn(batch, 4, 32, 32)\n",
    "with torch.no_grad():\n",
    "    imgs = vae.decode(z).sample\n",
    "imgs = (imgs * 0.5 + 0.5).clamp(0,1)\n",
    "\n",
    "plt.figure(figsize=(20, 5))\n",
    "plt.suptitle(\"Imagens geradas com VAE pré-treinado (CPU)\", fontsize=16)\n",
    "for i in range(batch):\n",
    "    ax = plt.subplot(2, batch, i + 1)\n",
    "    ax.imshow(torch.zeros((28, 28)), cmap='gray')  # espaço de placeholder\n",
    "    ax.set_title(f\"Latente {i+1}\", fontsize=10)\n",
    "    ax.axis('off')\n",
    "    ax = plt.subplot(2, batch, i + 1 + batch)\n",
    "    ax.imshow(imgs[i].permute(1, 2, 0).squeeze(), cmap='gray')\n",
    "    ax.axis('off')\n",
    "plt.tight_layout(rect=[0, 0, 1, 0.92])\n",
    "plt.show()"
   ]
  }
 ],
 "metadata": {},
 "nbformat": 4,
 "nbformat_minor": 5
}